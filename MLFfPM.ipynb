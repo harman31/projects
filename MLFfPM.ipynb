{
 "cells": [
  {
   "cell_type": "code",
   "execution_count": 1,
   "id": "c3e1ba74",
   "metadata": {},
   "outputs": [],
   "source": [
    "import pandas as pd, numpy as np, matplotlib.pyplot as plt\n",
    "import seaborn as sns"
   ]
  },
  {
   "cell_type": "code",
   "execution_count": 2,
   "id": "545d5815",
   "metadata": {},
   "outputs": [],
   "source": [
    "#Load Datafile\n",
    "data = pd.read_csv('CCPP_data.csv')\n",
    "df = pd.DataFrame(data)"
   ]
  },
  {
   "cell_type": "code",
   "execution_count": 3,
   "id": "e50a9377",
   "metadata": {},
   "outputs": [
    {
     "name": "stdout",
     "output_type": "stream",
     "text": [
      "<class 'pandas.core.frame.DataFrame'>\n",
      "RangeIndex: 9568 entries, 0 to 9567\n",
      "Data columns (total 5 columns):\n",
      " #   Column  Non-Null Count  Dtype  \n",
      "---  ------  --------------  -----  \n",
      " 0   AT      9568 non-null   float64\n",
      " 1   V       9568 non-null   float64\n",
      " 2   AP      9568 non-null   float64\n",
      " 3   RH      9568 non-null   float64\n",
      " 4   PE      9568 non-null   float64\n",
      "dtypes: float64(5)\n",
      "memory usage: 373.9 KB\n"
     ]
    }
   ],
   "source": [
    "df.info()"
   ]
  },
  {
   "cell_type": "code",
   "execution_count": 4,
   "id": "91657f6e",
   "metadata": {},
   "outputs": [
    {
     "data": {
      "text/html": [
       "<div>\n",
       "<style scoped>\n",
       "    .dataframe tbody tr th:only-of-type {\n",
       "        vertical-align: middle;\n",
       "    }\n",
       "\n",
       "    .dataframe tbody tr th {\n",
       "        vertical-align: top;\n",
       "    }\n",
       "\n",
       "    .dataframe thead th {\n",
       "        text-align: right;\n",
       "    }\n",
       "</style>\n",
       "<table border=\"1\" class=\"dataframe\">\n",
       "  <thead>\n",
       "    <tr style=\"text-align: right;\">\n",
       "      <th></th>\n",
       "      <th>AT</th>\n",
       "      <th>V</th>\n",
       "      <th>AP</th>\n",
       "      <th>RH</th>\n",
       "      <th>PE</th>\n",
       "    </tr>\n",
       "  </thead>\n",
       "  <tbody>\n",
       "    <tr>\n",
       "      <th>count</th>\n",
       "      <td>9568.000000</td>\n",
       "      <td>9568.000000</td>\n",
       "      <td>9568.000000</td>\n",
       "      <td>9568.000000</td>\n",
       "      <td>9568.000000</td>\n",
       "    </tr>\n",
       "    <tr>\n",
       "      <th>mean</th>\n",
       "      <td>19.651231</td>\n",
       "      <td>54.305804</td>\n",
       "      <td>1013.259078</td>\n",
       "      <td>73.308978</td>\n",
       "      <td>454.365009</td>\n",
       "    </tr>\n",
       "    <tr>\n",
       "      <th>std</th>\n",
       "      <td>7.452473</td>\n",
       "      <td>12.707893</td>\n",
       "      <td>5.938784</td>\n",
       "      <td>14.600269</td>\n",
       "      <td>17.066995</td>\n",
       "    </tr>\n",
       "    <tr>\n",
       "      <th>min</th>\n",
       "      <td>1.810000</td>\n",
       "      <td>25.360000</td>\n",
       "      <td>992.890000</td>\n",
       "      <td>25.560000</td>\n",
       "      <td>420.260000</td>\n",
       "    </tr>\n",
       "    <tr>\n",
       "      <th>25%</th>\n",
       "      <td>13.510000</td>\n",
       "      <td>41.740000</td>\n",
       "      <td>1009.100000</td>\n",
       "      <td>63.327500</td>\n",
       "      <td>439.750000</td>\n",
       "    </tr>\n",
       "    <tr>\n",
       "      <th>50%</th>\n",
       "      <td>20.345000</td>\n",
       "      <td>52.080000</td>\n",
       "      <td>1012.940000</td>\n",
       "      <td>74.975000</td>\n",
       "      <td>451.550000</td>\n",
       "    </tr>\n",
       "    <tr>\n",
       "      <th>75%</th>\n",
       "      <td>25.720000</td>\n",
       "      <td>66.540000</td>\n",
       "      <td>1017.260000</td>\n",
       "      <td>84.830000</td>\n",
       "      <td>468.430000</td>\n",
       "    </tr>\n",
       "    <tr>\n",
       "      <th>max</th>\n",
       "      <td>37.110000</td>\n",
       "      <td>81.560000</td>\n",
       "      <td>1033.300000</td>\n",
       "      <td>100.160000</td>\n",
       "      <td>495.760000</td>\n",
       "    </tr>\n",
       "  </tbody>\n",
       "</table>\n",
       "</div>"
      ],
      "text/plain": [
       "                AT            V           AP           RH           PE\n",
       "count  9568.000000  9568.000000  9568.000000  9568.000000  9568.000000\n",
       "mean     19.651231    54.305804  1013.259078    73.308978   454.365009\n",
       "std       7.452473    12.707893     5.938784    14.600269    17.066995\n",
       "min       1.810000    25.360000   992.890000    25.560000   420.260000\n",
       "25%      13.510000    41.740000  1009.100000    63.327500   439.750000\n",
       "50%      20.345000    52.080000  1012.940000    74.975000   451.550000\n",
       "75%      25.720000    66.540000  1017.260000    84.830000   468.430000\n",
       "max      37.110000    81.560000  1033.300000   100.160000   495.760000"
      ]
     },
     "execution_count": 4,
     "metadata": {},
     "output_type": "execute_result"
    }
   ],
   "source": [
    "df.describe()"
   ]
  },
  {
   "cell_type": "code",
   "execution_count": 5,
   "id": "e9844eee",
   "metadata": {},
   "outputs": [
    {
     "data": {
      "text/plain": [
       "<AxesSubplot:>"
      ]
     },
     "execution_count": 5,
     "metadata": {},
     "output_type": "execute_result"
    },
    {
     "data": {
      "image/png": "[encoded data removed]",
      "text/plain": [
       "<Figure size 720x576 with 2 Axes>"
      ]
     },
     "metadata": {
      "needs_background": "light"
     },
     "output_type": "display_data"
    }
   ],
   "source": [
    "plt.figure(figsize = (10, 8))\n",
    "plt.tight_layout()\n",
    "sns.heatmap(df.corr(), annot = True)"
   ]
  },
  {
   "cell_type": "code",
   "execution_count": 6,
   "id": "7adc4650",
   "metadata": {},
   "outputs": [],
   "source": [
    "#AT and V have negative correlation with PE.  High positive correlation with each other\n",
    "#AP and RH have weak positive correlation with PE\n",
    "df_1 = df[['AT']]\n",
    "df_2 = df[['AT', 'AP']]\n",
    "df_3 = df [['AT', 'V', 'AP', 'RH']]\n",
    "# PE as the target variable will equal y\n",
    "y = df['PE']"
   ]
  },
  {
   "cell_type": "code",
   "execution_count": 7,
   "id": "60330518",
   "metadata": {},
   "outputs": [],
   "source": [
    "from sklearn.model_selection import train_test_split\n",
    "from sklearn.linear_model import LinearRegression\n",
    "from sklearn.tree import DecisionTreeRegressor\n",
    "from sklearn.ensemble import RandomForestRegressor\n",
    "\n",
    "def build_model (df_model):\n",
    "    X_train, X_test, y_train, y_test = train_test_split(df_model, y, test_size = 0.2, random_state = 0)\n",
    "    print(\">> Linear Regression\")\n",
    "    regressor = LinearRegression()\n",
    "    regressor.fit(X_train, y_train)\n",
    "    y_pred_linear_reg = regressor.predict(X_test)\n",
    "    \n",
    "    print(\">> Decision Tree\")\n",
    "    dt_regressor = DecisionTreeRegressor()\n",
    "    dt_regressor.fit(X_train, y_train)\n",
    "    y_pred_dt_reg = dt_regressor.predict(X_test)\n",
    "    \n",
    "    print(\">> Random Forest\")\n",
    "    rf_regressor = RandomForestRegressor(n_estimators=100)\n",
    "    rf_regressor.fit(X_train, y_train)\n",
    "    y_pred_rf_reg = rf_regressor.predict(X_test)\n",
    "    \n",
    "    return [y_test, y_pred_linear_reg, y_pred_dt_reg, y_pred_rf_reg]"
   ]
  },
  {
   "cell_type": "code",
   "execution_count": 8,
   "id": "45212e42",
   "metadata": {},
   "outputs": [],
   "source": [
    "from sklearn.metrics import mean_squared_error\n",
    "from sklearn.metrics import r2_score\n",
    "from sklearn.metrics import mean_absolute_error\n",
    "\n",
    "def score_metrics(y_test, y_pred):\n",
    "    mse = mean_squared_error(y_test, y_pred)\n",
    "    rmse = np.sqrt(mse)\n",
    "    mae = mean_absolute_error(y_test, y_pred)\n",
    "    r_squared = r2_score(y_test, y_pred)\n",
    "    \n",
    "    return [rmse, mae, r_squared]"
   ]
  },
  {
   "cell_type": "code",
   "execution_count": 9,
   "id": "eba6bec2",
   "metadata": {},
   "outputs": [],
   "source": [
    "def get_score_list(df_model):\n",
    "    y_list = []\n",
    "    y_list = build_model(df_model)\n",
    "    print(\">> Generating List\")\n",
    "    linear_reg_score_list = score_metrics (y_list[0], y_list[1])\n",
    "    dt_reg_score_list = score_metrics (y_list[0], y_list[2])\n",
    "    rf_reg_score_list = score_metrics (y_list[0], y_list[3])\n",
    "    \n",
    "    \n",
    "    return [linear_reg_score_list, dt_reg_score_list, rf_reg_score_list]"
   ]
  },
  {
   "cell_type": "code",
   "execution_count": 10,
   "id": "7a682943",
   "metadata": {},
   "outputs": [
    {
     "name": "stdout",
     "output_type": "stream",
     "text": [
      "Model 1....\n",
      ">> Linear Regression\n",
      ">> Decision Tree\n",
      ">> Random Forest\n",
      ">> Generating List\n",
      "[[5.272562059337883, 4.174438156494202, 0.9049536175690113], [5.93651805220736, 4.633473127113801, 0.8795086758953446], [5.690365205066203, 4.449007635166193, 0.8892936654565008]]\n",
      "Model 2....\n",
      ">> Linear Regression\n",
      ">> Decision Tree\n",
      ">> Random Forest\n",
      ">> Generating List\n",
      "[[5.223087701137587, 4.179259885858517, 0.9067289581909649], [6.712551313849738, 5.08837513061651, 0.8459479688662046], [5.069148047248794, 3.9232111241727567, 0.9121458782010816]]\n",
      "Model 3....\n",
      ">> Linear Regression\n",
      ">> Decision Tree\n",
      ">> Random Forest\n",
      ">> Generating List\n",
      "[[4.442262858442492, 3.566564655203823, 0.9325315554761302], [4.8159129350642464, 3.1280721003134797, 0.9207043350767589], [3.1948437510716787, 2.3457928944618613, 0.9651027312769066]]\n"
     ]
    }
   ],
   "source": [
    "print(\"Model 1....\")\n",
    "df_1_score_list = get_score_list(df_1)\n",
    "print (df_1_score_list)\n",
    "\n",
    "print(\"Model 2....\")\n",
    "df_2_score_list = get_score_list(df_2)\n",
    "print (df_2_score_list)\n",
    "\n",
    "print(\"Model 3....\")\n",
    "df_3_score_list = get_score_list(df_3)\n",
    "print (df_3_score_list)"
   ]
  },
  {
   "cell_type": "code",
   "execution_count": 11,
   "id": "88f5d4a5",
   "metadata": {},
   "outputs": [],
   "source": [
    "def print_result(df_score_list):\n",
    "    print(\"Linear Regression\")\n",
    "    print(\"1. Root Mean Squared Error (RMSE) = \", df_score_list[0][0])\n",
    "    print(\"2. Mean Absolute Error (MAE) = \", df_score_list[0][1])\n",
    "    print(\"3. R Squared = \", df_score_list[0][2])\n",
    "    \n",
    "    print(\"Decision Tree\")\n",
    "    print(\"1. Root Mean Squared Error (RMSE) = \", df_score_list[1][0])\n",
    "    print(\"2. Mean Absolute Error (MAE) = \", df_score_list[1][1])\n",
    "    print(\"3. R Squared = \", df_score_list[1][2])\n",
    "    \n",
    "    print(\"Random forest\")\n",
    "    print(\"1. Root Mean Squared Error (RMSE) = \", df_score_list[2][0])\n",
    "    print(\"2. Mean Absolute Error (MAE) = \", df_score_list[2][1])\n",
    "    print(\"3. R Squared = \", df_score_list[2][2])"
   ]
  },
  {
   "cell_type": "code",
   "execution_count": 12,
   "id": "26e2607e",
   "metadata": {},
   "outputs": [
    {
     "name": "stdout",
     "output_type": "stream",
     "text": [
      "Linear Regression\n",
      "1. Root Mean Squared Error (RMSE) =  5.272562059337883\n",
      "2. Mean Absolute Error (MAE) =  4.174438156494202\n",
      "3. R Squared =  0.9049536175690113\n",
      "Decision Tree\n",
      "1. Root Mean Squared Error (RMSE) =  5.93651805220736\n",
      "2. Mean Absolute Error (MAE) =  4.633473127113801\n",
      "3. R Squared =  0.8795086758953446\n",
      "Random forest\n",
      "1. Root Mean Squared Error (RMSE) =  5.690365205066203\n",
      "2. Mean Absolute Error (MAE) =  4.449007635166193\n",
      "3. R Squared =  0.8892936654565008\n"
     ]
    }
   ],
   "source": [
    "print_result(df_1_score_list)"
   ]
  },
  {
   "cell_type": "code",
   "execution_count": 13,
   "id": "f1d5167d",
   "metadata": {},
   "outputs": [
    {
     "name": "stdout",
     "output_type": "stream",
     "text": [
      "Linear Regression\n",
      "1. Root Mean Squared Error (RMSE) =  5.223087701137587\n",
      "2. Mean Absolute Error (MAE) =  4.179259885858517\n",
      "3. R Squared =  0.9067289581909649\n",
      "Decision Tree\n",
      "1. Root Mean Squared Error (RMSE) =  6.712551313849738\n",
      "2. Mean Absolute Error (MAE) =  5.08837513061651\n",
      "3. R Squared =  0.8459479688662046\n",
      "Random forest\n",
      "1. Root Mean Squared Error (RMSE) =  5.069148047248794\n",
      "2. Mean Absolute Error (MAE) =  3.9232111241727567\n",
      "3. R Squared =  0.9121458782010816\n"
     ]
    }
   ],
   "source": [
    "print_result(df_2_score_list)"
   ]
  },
  {
   "cell_type": "code",
   "execution_count": 14,
   "id": "ec3e930f",
   "metadata": {},
   "outputs": [
    {
     "name": "stdout",
     "output_type": "stream",
     "text": [
      "Linear Regression\n",
      "1. Root Mean Squared Error (RMSE) =  4.442262858442492\n",
      "2. Mean Absolute Error (MAE) =  3.566564655203823\n",
      "3. R Squared =  0.9325315554761302\n",
      "Decision Tree\n",
      "1. Root Mean Squared Error (RMSE) =  4.8159129350642464\n",
      "2. Mean Absolute Error (MAE) =  3.1280721003134797\n",
      "3. R Squared =  0.9207043350767589\n",
      "Random forest\n",
      "1. Root Mean Squared Error (RMSE) =  3.1948437510716787\n",
      "2. Mean Absolute Error (MAE) =  2.3457928944618613\n",
      "3. R Squared =  0.9651027312769066\n"
     ]
    }
   ],
   "source": [
    "print_result(df_3_score_list)"
   ]
  },
  {
   "cell_type": "code",
   "execution_count": null,
   "id": "446cd75a",
   "metadata": {},
   "outputs": [],
   "source": [
    "#Random Forest Algorithm with Model 3 (all features). \n",
    "#The R Squared value of 0.965 means that 96.5% of the variance can be explained\n",
    "#Model 3 also has the smallest RMSE and MAE"
   ]
  }
 ],
 "metadata": {
  "kernelspec": {
   "display_name": "Python 3 (ipykernel)",
   "language": "python",
   "name": "python3"
  },
  "language_info": {
   "codemirror_mode": {
    "name": "ipython",
    "version": 3
   },
   "file_extension": ".py",
   "mimetype": "text/x-python",
   "name": "python",
   "nbconvert_exporter": "python",
   "pygments_lexer": "ipython3",
   "version": "3.9.7"
  }
 },
 "nbformat": 4,
 "nbformat_minor": 5
}
